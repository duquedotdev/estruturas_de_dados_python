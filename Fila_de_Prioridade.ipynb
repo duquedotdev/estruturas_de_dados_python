{
  "nbformat": 4,
  "nbformat_minor": 0,
  "metadata": {
    "colab": {
      "name": "Fila de Prioridade.ipynb",
      "provenance": [],
      "collapsed_sections": [],
      "authorship_tag": "ABX9TyN0/AwA2tTDdjqsWYkynJ0n",
      "include_colab_link": true
    },
    "kernelspec": {
      "name": "python3",
      "display_name": "Python 3"
    }
  },
  "cells": [
    {
      "cell_type": "markdown",
      "metadata": {
        "id": "view-in-github",
        "colab_type": "text"
      },
      "source": [
        "<a href=\"https://colab.research.google.com/github/duquedotdev/estruturas_de_dados_python/blob/master/Fila_de_Prioridade.ipynb\" target=\"_parent\"><img src=\"https://colab.research.google.com/assets/colab-badge.svg\" alt=\"Open In Colab\"/></a>"
      ]
    },
    {
      "cell_type": "markdown",
      "metadata": {
        "id": "ewucEH8soMIU"
      },
      "source": [
        "# Estrutura de Dados"
      ]
    },
    {
      "cell_type": "markdown",
      "metadata": {
        "id": "2pKFYnZOoJn7"
      },
      "source": [
        "## Fila de Prioridade\n"
      ]
    },
    {
      "cell_type": "markdown",
      "metadata": {
        "id": "Q-9vP8LNoJw-"
      },
      "source": [
        "*   Os itens são ordenados por valor-chave, de modo que o item com a chave mais baixa/alta esteja sempre na frente;\n",
        "*   Elementos de alta prioridade são colados no início da fila, de média prioridade no meio da fila e elementos de baixa prioridade no final da fila.\n"
      ]
    },
    {
      "cell_type": "code",
      "metadata": {
        "id": "CN1XV-nWoDyU"
      },
      "source": [
        "import numpy as np"
      ],
      "execution_count": 29,
      "outputs": []
    },
    {
      "cell_type": "code",
      "metadata": {
        "id": "t7IXc7RUx7E4"
      },
      "source": [
        "class FilaPrioridade:\n",
        "  \n",
        "  def __init__(self, capacidade):\n",
        "    self.capacidade = capacidade\n",
        "    self.numero_elementos = 0\n",
        "    self.valores = np.empty(self.capacidade, dtype=int)\n",
        "\n",
        "  def __fila_vazia(self):\n",
        "    return self.numero_elementos == 0\n",
        "\n",
        "  def __fila_cheia(self):\n",
        "    return self.numero_elementos == self.capacidade\n",
        "  \n",
        "  def enfileirar(self, valor):\n",
        "    if self.__fila_cheia():\n",
        "      print('A fila está cheia')\n",
        "      return\n",
        "    \n",
        "    if self.numero_elementos == 0:\n",
        "      self.valores[self.numero_elementos] = valor\n",
        "      self.numero_elementos += 1\n",
        "    else:\n",
        "      x = self.numero_elementos - 1\n",
        "      while x >= 0:\n",
        "        if valor > self.valores[x]:\n",
        "          self.valores[x + 1] = self.valores[x]\n",
        "        else:\n",
        "          break\n",
        "        x -= 1\n",
        "      self.valores[x + 1] = valor\n",
        "      self.numero_elementos += 1\n",
        "\n",
        "  def desenfileirar(self):\n",
        "    if self.__fila_vazia():\n",
        "      print('A fila está vazia')\n",
        "      return\n",
        "\n",
        "    valor = self.valores[self.numero_elementos - 1]\n",
        "    self.numero_elementos -= 1\n",
        "    return valor     \n",
        "  \n",
        "  def primeiro(self):\n",
        "    if self.__fila_vazia():\n",
        "      return -1\n",
        "    return self.valores[self.numero_elementos - 1]"
      ],
      "execution_count": 30,
      "outputs": []
    },
    {
      "cell_type": "code",
      "metadata": {
        "id": "ZTpeYQ3cz4Kl"
      },
      "source": [
        "fila = FilaPrioridade(5)"
      ],
      "execution_count": 31,
      "outputs": []
    },
    {
      "cell_type": "code",
      "metadata": {
        "colab": {
          "base_uri": "https://localhost:8080/"
        },
        "id": "clgWFLdZz6Ij",
        "outputId": "c955fd33-4083-4bb5-c3e9-b2bf418301a6"
      },
      "source": [
        "fila.primeiro()"
      ],
      "execution_count": 32,
      "outputs": [
        {
          "output_type": "execute_result",
          "data": {
            "text/plain": [
              "-1"
            ]
          },
          "metadata": {
            "tags": []
          },
          "execution_count": 32
        }
      ]
    },
    {
      "cell_type": "code",
      "metadata": {
        "colab": {
          "base_uri": "https://localhost:8080/"
        },
        "id": "fsRAdnjRz749",
        "outputId": "d5680088-7812-4043-8e35-64a3e4de822b"
      },
      "source": [
        "fila.enfileirar(30)\n",
        "fila.primeiro()"
      ],
      "execution_count": 33,
      "outputs": [
        {
          "output_type": "execute_result",
          "data": {
            "text/plain": [
              "30"
            ]
          },
          "metadata": {
            "tags": []
          },
          "execution_count": 33
        }
      ]
    },
    {
      "cell_type": "code",
      "metadata": {
        "colab": {
          "base_uri": "https://localhost:8080/"
        },
        "id": "X_9znI410gTY",
        "outputId": "0742b95f-49fd-4255-e9a4-78d645acb737"
      },
      "source": [
        "fila.enfileirar(50)\n",
        "fila.primeiro()"
      ],
      "execution_count": 34,
      "outputs": [
        {
          "output_type": "execute_result",
          "data": {
            "text/plain": [
              "30"
            ]
          },
          "metadata": {
            "tags": []
          },
          "execution_count": 34
        }
      ]
    },
    {
      "cell_type": "code",
      "metadata": {
        "colab": {
          "base_uri": "https://localhost:8080/"
        },
        "id": "9OAh5uhx0miL",
        "outputId": "a310d6a5-3c30-42fe-d90b-33f6b08d9c00"
      },
      "source": [
        "fila.enfileirar(10)\n",
        "fila.primeiro()"
      ],
      "execution_count": 35,
      "outputs": [
        {
          "output_type": "execute_result",
          "data": {
            "text/plain": [
              "10"
            ]
          },
          "metadata": {
            "tags": []
          },
          "execution_count": 35
        }
      ]
    },
    {
      "cell_type": "code",
      "metadata": {
        "colab": {
          "base_uri": "https://localhost:8080/"
        },
        "id": "AvBqsNpN0789",
        "outputId": "ad907134-f91a-4f73-f778-5a95f0e31fe0"
      },
      "source": [
        "fila.enfileirar(5)\n",
        "fila.primeiro()"
      ],
      "execution_count": 36,
      "outputs": [
        {
          "output_type": "execute_result",
          "data": {
            "text/plain": [
              "5"
            ]
          },
          "metadata": {
            "tags": []
          },
          "execution_count": 36
        }
      ]
    },
    {
      "cell_type": "code",
      "metadata": {
        "colab": {
          "base_uri": "https://localhost:8080/"
        },
        "id": "Scc0HhSX1FI9",
        "outputId": "15240b8a-362d-489e-c9ad-9878975d8c47"
      },
      "source": [
        "fila.valores"
      ],
      "execution_count": 38,
      "outputs": [
        {
          "output_type": "execute_result",
          "data": {
            "text/plain": [
              "array([50, 30, 10,  5,  0])"
            ]
          },
          "metadata": {
            "tags": []
          },
          "execution_count": 38
        }
      ]
    },
    {
      "cell_type": "code",
      "metadata": {
        "id": "XGr4Oxwr1Go2"
      },
      "source": [
        "fila.enfileirar(40)"
      ],
      "execution_count": 39,
      "outputs": []
    },
    {
      "cell_type": "code",
      "metadata": {
        "colab": {
          "base_uri": "https://localhost:8080/"
        },
        "id": "umtQt20y1Mjp",
        "outputId": "00a665a6-265a-4301-9e3d-53e0472b4004"
      },
      "source": [
        "fila.valores"
      ],
      "execution_count": 40,
      "outputs": [
        {
          "output_type": "execute_result",
          "data": {
            "text/plain": [
              "array([50, 40, 30, 10,  5])"
            ]
          },
          "metadata": {
            "tags": []
          },
          "execution_count": 40
        }
      ]
    },
    {
      "cell_type": "code",
      "metadata": {
        "colab": {
          "base_uri": "https://localhost:8080/"
        },
        "id": "XK1k3-kG1Nzz",
        "outputId": "3e17e016-4ee5-49ef-e290-1482f19ba12e"
      },
      "source": [
        "fila.desenfileirar()\n",
        "fila.primeiro()"
      ],
      "execution_count": 43,
      "outputs": [
        {
          "output_type": "execute_result",
          "data": {
            "text/plain": [
              "10"
            ]
          },
          "metadata": {
            "tags": []
          },
          "execution_count": 43
        }
      ]
    },
    {
      "cell_type": "code",
      "metadata": {
        "colab": {
          "base_uri": "https://localhost:8080/"
        },
        "id": "jLI8JU5I1bTh",
        "outputId": "463f8c0d-0d77-461d-cfa7-f255bb26a69f"
      },
      "source": [
        "fila.desenfileirar()\n",
        "fila.primeiro()\n"
      ],
      "execution_count": 44,
      "outputs": [
        {
          "output_type": "execute_result",
          "data": {
            "text/plain": [
              "30"
            ]
          },
          "metadata": {
            "tags": []
          },
          "execution_count": 44
        }
      ]
    }
  ]
}