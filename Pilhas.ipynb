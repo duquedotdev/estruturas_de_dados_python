{
  "nbformat": 4,
  "nbformat_minor": 0,
  "metadata": {
    "colab": {
      "name": "Pilhas.ipynb",
      "provenance": [],
      "collapsed_sections": [],
      "authorship_tag": "ABX9TyOD5Sgiv0Q/so/iXNxnmj9k",
      "include_colab_link": true
    },
    "kernelspec": {
      "name": "python3",
      "display_name": "Python 3"
    }
  },
  "cells": [
    {
      "cell_type": "markdown",
      "metadata": {
        "id": "view-in-github",
        "colab_type": "text"
      },
      "source": [
        "<a href=\"https://colab.research.google.com/github/duquedotdev/estruturas_de_dados_python/blob/master/Pilhas.ipynb\" target=\"_parent\"><img src=\"https://colab.research.google.com/assets/colab-badge.svg\" alt=\"Open In Colab\"/></a>"
      ]
    },
    {
      "cell_type": "markdown",
      "metadata": {
        "id": "kn_ca8ViccGX"
      },
      "source": [
        "## Estrutura de Dados"
      ]
    },
    {
      "cell_type": "markdown",
      "metadata": {
        "id": "rw5EguCWchny"
      },
      "source": [
        "### Pilhas\n"
      ]
    },
    {
      "cell_type": "markdown",
      "metadata": {
        "id": "19b3-5u9cjE2"
      },
      "source": [
        "*   Permite acesso ao último item inserido;\n",
        "*   Se o último item for removido, o item anterior ao último inserido poderá ser acessado;\n",
        "*   Sua aplicabilidade é dada em expressões aritméticas, percorrimento de uma árvore binária, pesquisa do vértice de um grafo e em microprocessadores com arquiteturas baseadas em pilhas.\n",
        "*   Quando um método é chamado, seu endereço de retorno e seus parâmetros são empilhados em uma pilha e quando ele retorna, são desempilhados.\n",
        "*   LIFO - Last in First Out\n"
      ]
    },
    {
      "cell_type": "code",
      "metadata": {
        "id": "tbPXqIYKcZ4b"
      },
      "source": [
        "import numpy as np"
      ],
      "execution_count": 30,
      "outputs": []
    },
    {
      "cell_type": "code",
      "metadata": {
        "id": "lP03dn6mu1q4"
      },
      "source": [
        "class Pilha:\n",
        "  def __init__(self, capacidade):\n",
        "    self.__capacidade = capacidade\n",
        "    self.__topo = -1\n",
        "    self.__valores = np.chararray(self.__capacidade, unicode=True)\n",
        "\n",
        "  def __pilha_cheia(self):\n",
        "    if self.__topo == self.__capacidade -1:\n",
        "      return True\n",
        "    else:\n",
        "      return False\n",
        "\n",
        "  def pilha_vazia(self):\n",
        "    if self.__topo == -1:\n",
        "      return True\n",
        "    else:\n",
        "      return False\n",
        "\n",
        "  def empilhar(self, valor):\n",
        "    if self.__pilha_cheia():\n",
        "      print('A pilha está cheia')\n",
        "    else:\n",
        "      self.__topo += 1\n",
        "      self.__valores[self.__topo] = valor\n",
        "\n",
        "  def desempilhar(self):\n",
        "    if self.pilha_vazia():\n",
        "      print('A pilha está vazia')\n",
        "    else:\n",
        "      valor = self.__valores[self.__topo]\n",
        "      self.__topo -= 1\n",
        "      return valor\n",
        "\n",
        "  def ver_topo(self):\n",
        "    if self.__topo != 1:\n",
        "      return self.__valores[self.__topo]\n",
        "    else:\n",
        "      return -1"
      ],
      "execution_count": 31,
      "outputs": []
    },
    {
      "cell_type": "code",
      "metadata": {
        "id": "WLl9q5y8GU6w"
      },
      "source": [
        "pilha = Pilha(5)"
      ],
      "execution_count": 32,
      "outputs": []
    },
    {
      "cell_type": "code",
      "metadata": {
        "colab": {
          "base_uri": "https://localhost:8080/",
          "height": 35
        },
        "id": "jkhylgIjGWtJ",
        "outputId": "1e051f59-e56c-4e73-e1be-5b83530eabd4"
      },
      "source": [
        "pilha.empilhar(5)\n",
        "pilha.ver_topo()"
      ],
      "execution_count": 33,
      "outputs": [
        {
          "output_type": "execute_result",
          "data": {
            "application/vnd.google.colaboratory.intrinsic+json": {
              "type": "string"
            },
            "text/plain": [
              "'5'"
            ]
          },
          "metadata": {
            "tags": []
          },
          "execution_count": 33
        }
      ]
    },
    {
      "cell_type": "code",
      "metadata": {
        "colab": {
          "base_uri": "https://localhost:8080/"
        },
        "id": "HcgXa89tK0fA",
        "outputId": "0bf01be7-bf9f-436b-83de-f89629db2a7f"
      },
      "source": [
        "pilha.empilhar(7)\n",
        "pilha.ver_topo()"
      ],
      "execution_count": 34,
      "outputs": [
        {
          "output_type": "execute_result",
          "data": {
            "text/plain": [
              "-1"
            ]
          },
          "metadata": {
            "tags": []
          },
          "execution_count": 34
        }
      ]
    },
    {
      "cell_type": "code",
      "metadata": {
        "colab": {
          "base_uri": "https://localhost:8080/"
        },
        "id": "GNgTBDcQMSJR",
        "outputId": "b5d30389-4548-4692-aeb3-84d12df9a56a"
      },
      "source": [
        "pilha.empilhar(1)\n",
        "pilha.empilhar(2)\n",
        "pilha.empilhar(3) #Último Elemento Adicionado\n",
        "pilha.empilhar(4) #Elemento Não Adicionado"
      ],
      "execution_count": 35,
      "outputs": [
        {
          "output_type": "stream",
          "text": [
            "A pilha está cheia\n"
          ],
          "name": "stdout"
        }
      ]
    },
    {
      "cell_type": "code",
      "metadata": {
        "id": "A1r1PgvkMvrE",
        "colab": {
          "base_uri": "https://localhost:8080/",
          "height": 35
        },
        "outputId": "0291e91c-2177-4c0f-d1b5-ab1e811b8f47"
      },
      "source": [
        "pilha.desempilhar()"
      ],
      "execution_count": 36,
      "outputs": [
        {
          "output_type": "execute_result",
          "data": {
            "application/vnd.google.colaboratory.intrinsic+json": {
              "type": "string"
            },
            "text/plain": [
              "'3'"
            ]
          },
          "metadata": {
            "tags": []
          },
          "execution_count": 36
        }
      ]
    },
    {
      "cell_type": "code",
      "metadata": {
        "colab": {
          "base_uri": "https://localhost:8080/",
          "height": 35
        },
        "id": "a9N3kNU8Mym2",
        "outputId": "cd29341d-9400-4729-b85c-af3223f9a3c9"
      },
      "source": [
        "pilha.ver_topo()"
      ],
      "execution_count": 37,
      "outputs": [
        {
          "output_type": "execute_result",
          "data": {
            "application/vnd.google.colaboratory.intrinsic+json": {
              "type": "string"
            },
            "text/plain": [
              "'2'"
            ]
          },
          "metadata": {
            "tags": []
          },
          "execution_count": 37
        }
      ]
    },
    {
      "cell_type": "code",
      "metadata": {
        "id": "aEfHjdsSM0MJ"
      },
      "source": [
        ""
      ],
      "execution_count": 37,
      "outputs": []
    }
  ]
}