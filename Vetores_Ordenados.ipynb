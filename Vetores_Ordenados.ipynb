{
  "nbformat": 4,
  "nbformat_minor": 0,
  "metadata": {
    "colab": {
      "name": "Vetores Ordenados.ipynb",
      "provenance": [],
      "collapsed_sections": [],
      "authorship_tag": "ABX9TyO8c1gw3ZCZmWa9/+nsYyXW",
      "include_colab_link": true
    },
    "kernelspec": {
      "name": "python3",
      "display_name": "Python 3"
    }
  },
  "cells": [
    {
      "cell_type": "markdown",
      "metadata": {
        "id": "view-in-github",
        "colab_type": "text"
      },
      "source": [
        "<a href=\"https://colab.research.google.com/github/duquedotdev/estruturas_de_dados_python/blob/master/Vetores_Ordenados.ipynb\" target=\"_parent\"><img src=\"https://colab.research.google.com/assets/colab-badge.svg\" alt=\"Open In Colab\"/></a>"
      ]
    },
    {
      "cell_type": "markdown",
      "metadata": {
        "id": "2FNA5dqHFLiC"
      },
      "source": [
        "## Vetores Ordenados"
      ]
    },
    {
      "cell_type": "code",
      "metadata": {
        "id": "woqw2iEbFLLz"
      },
      "source": [
        "import numpy as np"
      ],
      "execution_count": 48,
      "outputs": []
    },
    {
      "cell_type": "code",
      "metadata": {
        "id": "R8j3k8pYwwTb"
      },
      "source": [
        "class VetorOrdenado:\n",
        "\n",
        "  def __init__(self, capacidade):\n",
        "    self.capacidade = capacidade\n",
        "    self.ultima_posicao = -1\n",
        "    self.valores = np.empty(self.capacidade, dtype=int)\n",
        "\n",
        "  #Big-O = O(n)\n",
        "  def imprime(self):\n",
        "    if self.ultima_posicao == -1:\n",
        "      print('O vetor está vazio')\n",
        "    else:\n",
        "      for i in range(self.ultima_posicao + 1):\n",
        "        print(i, ' - ', self.valores[i])\n",
        "\n",
        "  #Big-O = O(n)\n",
        "  def insere(self, valor):\n",
        "    if self.ultima_posicao == self.capacidade - 1:\n",
        "      print('Capacidade máxima atingida')\n",
        "      return\n",
        "\n",
        "    posicao = 0\n",
        "    for i in range(self.ultima_posicao + 1):\n",
        "      posicao = i\n",
        "      if self.valores[i] > valor:\n",
        "        break\n",
        "      if i == self.ultima_posicao:\n",
        "        posicao = i + 1\n",
        "\n",
        "    x = self.ultima_posicao\n",
        "    while x >= posicao:\n",
        "      self.valores[x + 1] = self.valores[x]\n",
        "      x -= 1\n",
        "\n",
        "    self.valores[posicao] = valor\n",
        "    self.ultima_posicao += 1\n",
        "\n",
        "  #Big-O = O(n)\n",
        "  def pesquisar(self, valor):\n",
        "    for i in range(self.ultima_posicao + 1):\n",
        "      if self.valores[i] > valor:\n",
        "        return -1\n",
        "      if self.valores[i] == valor:\n",
        "        return i\n",
        "      if i == self.ultima_posicao:\n",
        "        return -1\n",
        "  #Big-O = O(n)\n",
        "  def excluir(self, valor):\n",
        "    posicao = self.pesquisar(valor)\n",
        "    if posicao == -1:\n",
        "      return -1\n",
        "    else:\n",
        "      for i in range(posicao, self.ultima_posicao):\n",
        "        self.valores[i] = self.valores[i + 1]\n",
        "      \n",
        "      self.ultima_posicao -= 1"
      ],
      "execution_count": 49,
      "outputs": []
    },
    {
      "cell_type": "code",
      "metadata": {
        "id": "FP9km2qjGsGA",
        "outputId": "deac88e4-e15a-4eea-ed94-79a5da3e0bba",
        "colab": {
          "base_uri": "https://localhost:8080/"
        }
      },
      "source": [
        "vetor = VetorOrdenado(10)\n",
        "vetor.imprime()"
      ],
      "execution_count": 50,
      "outputs": [
        {
          "output_type": "stream",
          "text": [
            "O vetor está vazio\n"
          ],
          "name": "stdout"
        }
      ]
    },
    {
      "cell_type": "markdown",
      "metadata": {
        "id": "rHkWDKcpOT8p"
      },
      "source": [
        "### Inserir\n"
      ]
    },
    {
      "cell_type": "code",
      "metadata": {
        "id": "o47MiTEAN6if",
        "outputId": "ffbed8e1-a2c3-4478-f4b5-7684bbcb45f8",
        "colab": {
          "base_uri": "https://localhost:8080/"
        }
      },
      "source": [
        "vetor.insere(6)\n",
        "vetor.imprime()"
      ],
      "execution_count": 51,
      "outputs": [
        {
          "output_type": "stream",
          "text": [
            "0  -  6\n"
          ],
          "name": "stdout"
        }
      ]
    },
    {
      "cell_type": "code",
      "metadata": {
        "id": "gKE_s7PUN8rG",
        "outputId": "aa808cf9-fd72-47cb-acac-362044953da8",
        "colab": {
          "base_uri": "https://localhost:8080/"
        }
      },
      "source": [
        "vetor.insere(4)\n",
        "vetor.imprime()"
      ],
      "execution_count": 52,
      "outputs": [
        {
          "output_type": "stream",
          "text": [
            "0  -  4\n",
            "1  -  6\n"
          ],
          "name": "stdout"
        }
      ]
    },
    {
      "cell_type": "code",
      "metadata": {
        "id": "wyNCFLjdOEoq",
        "outputId": "0071a828-7f02-40ea-8d01-2aceb03242f1",
        "colab": {
          "base_uri": "https://localhost:8080/"
        }
      },
      "source": [
        "vetor.insere(1)\n",
        "vetor.imprime()"
      ],
      "execution_count": 53,
      "outputs": [
        {
          "output_type": "stream",
          "text": [
            "0  -  1\n",
            "1  -  4\n",
            "2  -  6\n"
          ],
          "name": "stdout"
        }
      ]
    },
    {
      "cell_type": "code",
      "metadata": {
        "id": "0PxI161-OHdu",
        "outputId": "abcf43b2-fe91-4685-beb4-48affdf7292a",
        "colab": {
          "base_uri": "https://localhost:8080/"
        }
      },
      "source": [
        "vetor.insere(9)\n",
        "vetor.imprime()"
      ],
      "execution_count": 54,
      "outputs": [
        {
          "output_type": "stream",
          "text": [
            "0  -  1\n",
            "1  -  4\n",
            "2  -  6\n",
            "3  -  9\n"
          ],
          "name": "stdout"
        }
      ]
    },
    {
      "cell_type": "markdown",
      "metadata": {
        "id": "ga0c1RIGPAni"
      },
      "source": [
        "### Pesquisa Linear"
      ]
    },
    {
      "cell_type": "code",
      "metadata": {
        "id": "6Yp6E0nTPCBF",
        "outputId": "efca8a2c-d10a-476b-dc8b-8b42964f4413",
        "colab": {
          "base_uri": "https://localhost:8080/"
        }
      },
      "source": [
        "vetor.pesquisar(9)"
      ],
      "execution_count": 55,
      "outputs": [
        {
          "output_type": "execute_result",
          "data": {
            "text/plain": [
              "3"
            ]
          },
          "metadata": {
            "tags": []
          },
          "execution_count": 55
        }
      ]
    },
    {
      "cell_type": "code",
      "metadata": {
        "id": "EHZnoF8XQIC6",
        "outputId": "b27e02de-3dc5-4d1b-f0c8-d322893553e0",
        "colab": {
          "base_uri": "https://localhost:8080/"
        }
      },
      "source": [
        "vetor.pesquisar(7)"
      ],
      "execution_count": 56,
      "outputs": [
        {
          "output_type": "execute_result",
          "data": {
            "text/plain": [
              "-1"
            ]
          },
          "metadata": {
            "tags": []
          },
          "execution_count": 56
        }
      ]
    },
    {
      "cell_type": "markdown",
      "metadata": {
        "id": "Jjb9uNGxQPiC"
      },
      "source": [
        "### Exclusão"
      ]
    },
    {
      "cell_type": "code",
      "metadata": {
        "id": "Ki6hi8ndQR-5",
        "outputId": "923791fe-127c-461f-9b90-8310ee89666a",
        "colab": {
          "base_uri": "https://localhost:8080/"
        }
      },
      "source": [
        "vetor.excluir(6)\n",
        "vetor.imprime()"
      ],
      "execution_count": 57,
      "outputs": [
        {
          "output_type": "stream",
          "text": [
            "0  -  1\n",
            "1  -  4\n",
            "2  -  9\n"
          ],
          "name": "stdout"
        }
      ]
    },
    {
      "cell_type": "code",
      "metadata": {
        "id": "7TSaYnERVh2x",
        "outputId": "36f763ff-9e88-4aa3-dd1c-efe1f71f28d5",
        "colab": {
          "base_uri": "https://localhost:8080/"
        }
      },
      "source": [
        "vetor.excluir(6)"
      ],
      "execution_count": 58,
      "outputs": [
        {
          "output_type": "execute_result",
          "data": {
            "text/plain": [
              "-1"
            ]
          },
          "metadata": {
            "tags": []
          },
          "execution_count": 58
        }
      ]
    }
  ]
}