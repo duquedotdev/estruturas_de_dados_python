{
  "nbformat": 4,
  "nbformat_minor": 0,
  "metadata": {
    "colab": {
      "name": "Vetores Não Ordenados",
      "provenance": [],
      "collapsed_sections": [],
      "toc_visible": true,
      "authorship_tag": "ABX9TyPkrY+GT/7zM/yGfvRMn6J7",
      "include_colab_link": true
    },
    "kernelspec": {
      "name": "python3",
      "display_name": "Python 3"
    }
  },
  "cells": [
    {
      "cell_type": "markdown",
      "metadata": {
        "id": "view-in-github",
        "colab_type": "text"
      },
      "source": [
        "<a href=\"https://colab.research.google.com/github/duquedotdev/estruturas_de_dados_python/blob/master/Vetores_N%C3%A3o_Ordenados.ipynb\" target=\"_parent\"><img src=\"https://colab.research.google.com/assets/colab-badge.svg\" alt=\"Open In Colab\"/></a>"
      ]
    },
    {
      "cell_type": "markdown",
      "metadata": {
        "id": "A52q-gISbdPT"
      },
      "source": [
        "## Vetores não ordenados\n"
      ]
    },
    {
      "cell_type": "code",
      "metadata": {
        "id": "BOlmrb7hjCqL"
      },
      "source": [
        "import numpy as np"
      ],
      "execution_count": 67,
      "outputs": []
    },
    {
      "cell_type": "code",
      "metadata": {
        "id": "z_jw8E6HjF90"
      },
      "source": [
        "class VetorNaoOrdenado:\n",
        "  def __init__(self, capacidade):\n",
        "    self.capacidade = capacidade\n",
        "    self.ultima_posicao = -1\n",
        "    self.valores = np.empty(self.capacidade, dtype=int)\n",
        "  \n",
        "  # Big-O => O(n)\n",
        "  def imprime(self):\n",
        "    if self.ultima_posicao == -1:\n",
        "      print('O vetor está vazio')\n",
        "    else:\n",
        "      for i in range(self.ultima_posicao + 1):\n",
        "        print(i, ' - ', self.valores[i])\n",
        "\n",
        "  # Big-O => O(1) ou O(n)\n",
        "  def insere(self, valor):\n",
        "    if self.ultima_posicao == self.capacidade -1:\n",
        "      print('Capacidade máxima atingida')\n",
        "    else:\n",
        "      self.ultima_posicao += 1\n",
        "      self.valores[self.ultima_posicao] = valor\n",
        "  \n",
        "  # Big-O => O(1) ou O(n)\n",
        "  def pesquisar(self, valor):\n",
        "    for i in range(self.ultima_posicao + 1):\n",
        "      if valor == self.valores[i]:\n",
        "        return i\n",
        "    return -1\n",
        "\n",
        "  # Big-O => O(1) ou O(n)\n",
        "  def excluir(self, valor):\n",
        "    posicao = self.pesquisar(valor)\n",
        "    if posicao == -1:\n",
        "      return-1\n",
        "    else:\n",
        "      for i in range(posicao, self.ultima_posicao):\n",
        "        self.valores[i] = self.valores[i + 1]\n",
        "      \n",
        "      self.ultima_posicao -= 1\n",
        "\n"
      ],
      "execution_count": 68,
      "outputs": []
    },
    {
      "cell_type": "code",
      "metadata": {
        "id": "q7-2n-39kLOY",
        "outputId": "96b75227-e35b-4ecb-9d50-53bd8d005456",
        "colab": {
          "base_uri": "https://localhost:8080/"
        }
      },
      "source": [
        "vetor = VetorNaoOrdenado(5)\n",
        "vetor.imprime()"
      ],
      "execution_count": 69,
      "outputs": [
        {
          "output_type": "stream",
          "text": [
            "O vetor está vazio\n"
          ],
          "name": "stdout"
        }
      ]
    },
    {
      "cell_type": "markdown",
      "metadata": {
        "id": "mPKeQUNPbkku"
      },
      "source": [
        "### Inserir\n"
      ]
    },
    {
      "cell_type": "markdown",
      "metadata": {
        "id": "4BtbfqM5cO31"
      },
      "source": [
        "A inserção de um novo elemento no vetor é feita por um único passo, ou seja, é inserida na primeira célula vaga do vetor. O algoritmo já conhece essa localização porque ele já sabe quantos itens já estão no vetor. O novo item é simplesmente inserido no próximo espaço disponível."
      ]
    },
    {
      "cell_type": "markdown",
      "metadata": {
        "id": "Vy82VmQvcmwf"
      },
      "source": [
        "Big-O  = Constante -> O(1)"
      ]
    },
    {
      "cell_type": "code",
      "metadata": {
        "id": "PIRZXMKCa3Xg",
        "outputId": "b08543c6-160b-4eee-d256-4d7b45844d46",
        "colab": {
          "base_uri": "https://localhost:8080/"
        }
      },
      "source": [
        "vetor.insere(5)\n",
        "vetor.insere(7)\n",
        "vetor.insere(9)\n",
        "vetor.insere(11)\n",
        "vetor.insere(13)\n",
        "vetor.insere(15)\n",
        "vetor.imprime()"
      ],
      "execution_count": 70,
      "outputs": [
        {
          "output_type": "stream",
          "text": [
            "Capacidade máxima atingida\n",
            "0  -  5\n",
            "1  -  7\n",
            "2  -  9\n",
            "3  -  11\n",
            "4  -  13\n"
          ],
          "name": "stdout"
        }
      ]
    },
    {
      "cell_type": "markdown",
      "metadata": {
        "id": "vs0VRk8qKRJD"
      },
      "source": [
        "### Pesquisa Linear\n"
      ]
    },
    {
      "cell_type": "markdown",
      "metadata": {
        "id": "zDWwl3yeKYOt"
      },
      "source": [
        "Percorre cada posição do vetor, e no melhor caso encontra o número procurado na primeira posição. No pior caso, terá de percorrer todos os elementos do vetor para poder determinar se o elemento buscado existe. Em média, metade dos itens deve ser examinados (N/2). A notação Big-O é O(n)"
      ]
    },
    {
      "cell_type": "markdown",
      "metadata": {
        "id": "iSTTPDQmpZcr"
      },
      "source": [
        "\n",
        "\n",
        "---\n",
        "\n"
      ]
    },
    {
      "cell_type": "markdown",
      "metadata": {
        "id": "KzjEVKOOpUZl"
      },
      "source": [
        "Melhor caso = Vetor na primeira posição"
      ]
    },
    {
      "cell_type": "code",
      "metadata": {
        "id": "MVKkNmRuoE2A",
        "outputId": "56b0dd2b-3218-4e8a-f34a-b36f4d3b5fa6",
        "colab": {
          "base_uri": "https://localhost:8080/"
        }
      },
      "source": [
        "vetor.pesquisar(5)"
      ],
      "execution_count": 71,
      "outputs": [
        {
          "output_type": "execute_result",
          "data": {
            "text/plain": [
              "0"
            ]
          },
          "metadata": {
            "tags": []
          },
          "execution_count": 71
        }
      ]
    },
    {
      "cell_type": "markdown",
      "metadata": {
        "id": "SBCwv0l2pgrc"
      },
      "source": [
        "Pior caso = Ter percorrido a matriz inteira."
      ]
    },
    {
      "cell_type": "code",
      "metadata": {
        "id": "jbh-MQ-2pPX5",
        "outputId": "d67bb425-12b3-495a-88a0-cea6dac0a0b9",
        "colab": {
          "base_uri": "https://localhost:8080/"
        }
      },
      "source": [
        "vetor.pesquisar(10)"
      ],
      "execution_count": 72,
      "outputs": [
        {
          "output_type": "execute_result",
          "data": {
            "text/plain": [
              "-1"
            ]
          },
          "metadata": {
            "tags": []
          },
          "execution_count": 72
        }
      ]
    },
    {
      "cell_type": "markdown",
      "metadata": {
        "id": "M7jpkCNaLWVW"
      },
      "source": [
        "### Exclusão\n"
      ]
    },
    {
      "cell_type": "markdown",
      "metadata": {
        "id": "x-2SnsFTLZlL"
      },
      "source": [
        "Primeiramente temos que pesquisar uma média de N/2 elementos (pesquisa linear), e no pior caso pesquisar em todos os elementos. Mover os elementos restantes (N/2 passos), e no pior caso ter de mover todos os elementos. Big-O é 0(2n)"
      ]
    },
    {
      "cell_type": "code",
      "metadata": {
        "id": "zL4Jgr_Iqali"
      },
      "source": [
        "vetor.excluir(11)"
      ],
      "execution_count": 73,
      "outputs": []
    },
    {
      "cell_type": "code",
      "metadata": {
        "id": "1e7tkrDgqjmo",
        "outputId": "5df5e7ac-8e7c-4efa-cec0-5f70fc4d3725",
        "colab": {
          "base_uri": "https://localhost:8080/"
        }
      },
      "source": [
        "vetor.imprime()"
      ],
      "execution_count": 74,
      "outputs": [
        {
          "output_type": "stream",
          "text": [
            "0  -  5\n",
            "1  -  7\n",
            "2  -  9\n",
            "3  -  13\n"
          ],
          "name": "stdout"
        }
      ]
    },
    {
      "cell_type": "markdown",
      "metadata": {
        "id": "X3prYaU7Pdal"
      },
      "source": [
        "### Duplicatas"
      ]
    },
    {
      "cell_type": "markdown",
      "metadata": {
        "id": "KNcAZ_ayPoF4"
      },
      "source": [
        "Deve-se decidir se itens com chaves duplicadas serão permitidos. Inicia-se por um processo de pesquisa, pois mesmo se encontrado, o algoritmo terá de continuar procurando até a última célula (N passos). Após isso, executa-se um processo de inserção, para verificar cada item antes de fazer uma inserção (N passos). "
      ]
    },
    {
      "cell_type": "code",
      "metadata": {
        "id": "baF2hZc1PfQg"
      },
      "source": [
        ""
      ],
      "execution_count": 74,
      "outputs": []
    }
  ]
}