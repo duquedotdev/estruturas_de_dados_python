{
  "nbformat": 4,
  "nbformat_minor": 0,
  "metadata": {
    "colab": {
      "name": "Vetores Não Ordenados",
      "provenance": [],
      "toc_visible": true,
      "authorship_tag": "ABX9TyPgtaNXSkghZjOGVm2S9BOJ",
      "include_colab_link": true
    },
    "kernelspec": {
      "name": "python3",
      "display_name": "Python 3"
    }
  },
  "cells": [
    {
      "cell_type": "markdown",
      "metadata": {
        "id": "view-in-github",
        "colab_type": "text"
      },
      "source": [
        "<a href=\"https://colab.research.google.com/github/duquedotdev/estruturas_de_dados_python/blob/master/Vetores_N%C3%A3o_Ordenados.ipynb\" target=\"_parent\"><img src=\"https://colab.research.google.com/assets/colab-badge.svg\" alt=\"Open In Colab\"/></a>"
      ]
    },
    {
      "cell_type": "markdown",
      "metadata": {
        "id": "A52q-gISbdPT"
      },
      "source": [
        "## Inserção"
      ]
    },
    {
      "cell_type": "markdown",
      "metadata": {
        "id": "mPKeQUNPbkku"
      },
      "source": [
        "### Inserção de um novo vetor\n"
      ]
    },
    {
      "cell_type": "markdown",
      "metadata": {
        "id": "4BtbfqM5cO31"
      },
      "source": [
        "A inserção de um novo elemento no vetor é feita por um único passo, ou seja, é inserida na primeira célula vaga do vetor. O algoritmo já conhece essa localização porque ele já sabe quantos itens já estão no vetor. O novo item é simplesmente inserido no próximo espaço disponível."
      ]
    },
    {
      "cell_type": "markdown",
      "metadata": {
        "id": "Vy82VmQvcmwf"
      },
      "source": [
        "Big-O  = Constante -> O(1)"
      ]
    },
    {
      "cell_type": "code",
      "metadata": {
        "id": "PIRZXMKCa3Xg"
      },
      "source": [
        ""
      ],
      "execution_count": null,
      "outputs": []
    }
  ]
}