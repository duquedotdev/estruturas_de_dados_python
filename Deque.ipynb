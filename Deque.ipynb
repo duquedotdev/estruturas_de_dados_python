{
  "nbformat": 4,
  "nbformat_minor": 0,
  "metadata": {
    "colab": {
      "name": "Deque.ipynb",
      "provenance": [],
      "collapsed_sections": [],
      "authorship_tag": "ABX9TyNWVcZ+kRTumh9HvqCXNOYQ",
      "include_colab_link": true
    },
    "kernelspec": {
      "name": "python3",
      "display_name": "Python 3"
    }
  },
  "cells": [
    {
      "cell_type": "markdown",
      "metadata": {
        "id": "view-in-github",
        "colab_type": "text"
      },
      "source": [
        "<a href=\"https://colab.research.google.com/github/duquedotdev/estruturas_de_dados_python/blob/master/Deque.ipynb\" target=\"_parent\"><img src=\"https://colab.research.google.com/assets/colab-badge.svg\" alt=\"Open In Colab\"/></a>"
      ]
    },
    {
      "cell_type": "markdown",
      "metadata": {
        "id": "IESitkRwQrh9"
      },
      "source": [
        "# Estrutura de Dados"
      ]
    },
    {
      "cell_type": "markdown",
      "metadata": {
        "id": "4LAqalRQQrwy"
      },
      "source": [
        "## Deques (Double Ended Queue)"
      ]
    },
    {
      "cell_type": "markdown",
      "metadata": {
        "id": "Zl2yvJy9QsIy"
      },
      "source": [
        "* Neste modelo de estrutura, temos duas entradas e duas saídas de dados;\n",
        "* Sua aplicabilidade está em filas de prioridade, agendamento de tarefas de vários processadores, e ele está presente no algoritmo de agendamento de trabalho furtivo usado pela biblioteca Threading Building Blocks (TBB) da Intel para programação paralela; "
      ]
    },
    {
      "cell_type": "code",
      "metadata": {
        "id": "jD9Nx8c7QpdQ"
      },
      "source": [
        "import numpy as np"
      ],
      "execution_count": 41,
      "outputs": []
    },
    {
      "cell_type": "code",
      "metadata": {
        "id": "p2T2Bg2ISBB5"
      },
      "source": [
        "class Deque:\n",
        "\n",
        "  def __init__(self, capacidade):\n",
        "    self.capacidade = capacidade\n",
        "    self.inicio = -1\n",
        "    self.final = 0\n",
        "    self.numero_elementos = 0\n",
        "    self.valores = np.empty(self.capacidade, dtype=int)\n",
        "\n",
        "  def __deque_cheio(self):\n",
        "    return (self.inicio == 0 and self.final == self.capacidade -1) or (self.inicio == self.final + 1)\n",
        "\n",
        "  def __deque_vazio(self):\n",
        "    return self.inicio == -1\n",
        "  \n",
        "  def insere_inicio(self, valor):\n",
        "    if self.__deque_cheio():\n",
        "      print('O deque está cheio')\n",
        "      return\n",
        "    \n",
        "    #Se estiver vazio\n",
        "    if self.inicio == -1:\n",
        "      self.inicio = 0\n",
        "      self.final = 0\n",
        "    #Inicio estiver na primeira posição\n",
        "    elif self.inicio == 0:\n",
        "      self.inicio = self.capacidade - 1\n",
        "    else:\n",
        "      self.inicio -= 1\n",
        "\n",
        "    self.valores[self.inicio] = valor\n",
        "\n",
        "  def insere_final(self, valor):\n",
        "      if self.__deque_cheio():\n",
        "        print('O deque está cheio')\n",
        "        return\n",
        "\n",
        "      #Se estiver vazio\n",
        "      if self.inicio == -1:\n",
        "        self.inicio = 0\n",
        "        self.final = 0\n",
        "\n",
        "      #Final estiver na última posição\n",
        "      elif self.final == self.capacidade -1:\n",
        "        self.final =0\n",
        "      else:\n",
        "        self.final += 1\n",
        "\n",
        "      self.valores[self.final] = valor\n",
        "\n",
        "  def excluir_inicio(self):\n",
        "    if self.__deque_vazio():\n",
        "      print('O deque já está vazio')\n",
        "      return\n",
        "\n",
        "    #Possui somente um elemento\n",
        "    if self.inicio == self.final:\n",
        "      self.inicio = -1\n",
        "      self.final = -1\n",
        "    else:\n",
        "      #Volta para posição inicial\n",
        "      if self.inicio == self.capacidade -1:\n",
        "        self.inicio = 0\n",
        "      else:\n",
        "        #Incrementar início para remover o início atual\n",
        "        self.inicio += 1\n",
        "\n",
        "  def excluir_final(self):\n",
        "    if self.__deque_vazio():\n",
        "      print('O deque já está vazio')\n",
        "      return\n",
        "      \n",
        "    if self.inicio == self.final:\n",
        "      self.inicio = -1\n",
        "      self.final = -1\n",
        "    elif self.inicio == 0:\n",
        "      self.final = self.capacidade -1\n",
        "    else:\n",
        "      self.final -1\n",
        "  \n",
        "  def get_inicio(self):\n",
        "    if self.__deque_vazio():\n",
        "      print('O deque já está vazio')\n",
        "      return\n",
        "\n",
        "    return self.valores[self.inicio]\n",
        "\n",
        "\n",
        "  def get_final(self):\n",
        "    if self.__deque_vazio() or self.final < 0:\n",
        "      print('O deque já está vazio')\n",
        "      return\n",
        "\n",
        "    return self.valores[self.final]"
      ],
      "execution_count": 42,
      "outputs": []
    },
    {
      "cell_type": "code",
      "metadata": {
        "id": "7GPmniSYZqKC"
      },
      "source": [
        "deque = Deque(5)"
      ],
      "execution_count": 43,
      "outputs": []
    },
    {
      "cell_type": "code",
      "metadata": {
        "colab": {
          "base_uri": "https://localhost:8080/"
        },
        "id": "1UI7HOFXew91",
        "outputId": "7e676b25-1424-4d03-dfd3-364f4a6d0596"
      },
      "source": [
        "deque.insere_final(5)\n",
        "deque.get_inicio(),deque.get_final()"
      ],
      "execution_count": 44,
      "outputs": [
        {
          "output_type": "execute_result",
          "data": {
            "text/plain": [
              "(5, 5)"
            ]
          },
          "metadata": {
            "tags": []
          },
          "execution_count": 44
        }
      ]
    },
    {
      "cell_type": "code",
      "metadata": {
        "colab": {
          "base_uri": "https://localhost:8080/"
        },
        "id": "ODbRTpY4e5BM",
        "outputId": "ff23fdcc-94ba-4e5f-d18c-a44b5a035fed"
      },
      "source": [
        "deque.insere_final(10)\n",
        "deque.get_inicio(),deque.get_final()"
      ],
      "execution_count": 45,
      "outputs": [
        {
          "output_type": "execute_result",
          "data": {
            "text/plain": [
              "(5, 10)"
            ]
          },
          "metadata": {
            "tags": []
          },
          "execution_count": 45
        }
      ]
    },
    {
      "cell_type": "code",
      "metadata": {
        "colab": {
          "base_uri": "https://localhost:8080/"
        },
        "id": "zRAllxOBfd8D",
        "outputId": "b054c7b9-8144-4e19-b5cf-084d0e92b488"
      },
      "source": [
        "deque.insere_inicio(3)\n",
        "deque.get_inicio(),deque.get_final()"
      ],
      "execution_count": 46,
      "outputs": [
        {
          "output_type": "execute_result",
          "data": {
            "text/plain": [
              "(3, 10)"
            ]
          },
          "metadata": {
            "tags": []
          },
          "execution_count": 46
        }
      ]
    },
    {
      "cell_type": "code",
      "metadata": {
        "colab": {
          "base_uri": "https://localhost:8080/"
        },
        "id": "RW2ld95afymZ",
        "outputId": "120de118-5cdc-410a-d101-9d894c882eea"
      },
      "source": [
        "deque.insere_inicio(2)\n",
        "deque.get_inicio(),deque.get_final()"
      ],
      "execution_count": 47,
      "outputs": [
        {
          "output_type": "execute_result",
          "data": {
            "text/plain": [
              "(2, 10)"
            ]
          },
          "metadata": {
            "tags": []
          },
          "execution_count": 47
        }
      ]
    },
    {
      "cell_type": "code",
      "metadata": {
        "colab": {
          "base_uri": "https://localhost:8080/"
        },
        "id": "EUsRt7BlfyaS",
        "outputId": "019a2c82-11ce-42b7-fe72-ffe36feb7c38"
      },
      "source": [
        "deque.insere_inicio(1)\n",
        "deque.get_inicio(),deque.get_final()"
      ],
      "execution_count": 48,
      "outputs": [
        {
          "output_type": "execute_result",
          "data": {
            "text/plain": [
              "(1, 10)"
            ]
          },
          "metadata": {
            "tags": []
          },
          "execution_count": 48
        }
      ]
    },
    {
      "cell_type": "code",
      "metadata": {
        "colab": {
          "base_uri": "https://localhost:8080/"
        },
        "id": "pwo1Cou8f6eD",
        "outputId": "78334acb-11d3-4bb1-bdfc-0c616c8d1207"
      },
      "source": [
        "deque.insere_final(11)\n",
        "deque.get_inicio(),deque.get_final()"
      ],
      "execution_count": 49,
      "outputs": [
        {
          "output_type": "stream",
          "text": [
            "O deque está cheio\n"
          ],
          "name": "stdout"
        },
        {
          "output_type": "execute_result",
          "data": {
            "text/plain": [
              "(1, 10)"
            ]
          },
          "metadata": {
            "tags": []
          },
          "execution_count": 49
        }
      ]
    },
    {
      "cell_type": "code",
      "metadata": {
        "colab": {
          "base_uri": "https://localhost:8080/"
        },
        "id": "ejyPLsZnf_Ne",
        "outputId": "513d4db1-dcd7-4a6b-fd97-7d30c3ff5f77"
      },
      "source": [
        "deque.excluir_inicio()\n",
        "deque.get_inicio(),deque.get_final()"
      ],
      "execution_count": 50,
      "outputs": [
        {
          "output_type": "execute_result",
          "data": {
            "text/plain": [
              "(2, 10)"
            ]
          },
          "metadata": {
            "tags": []
          },
          "execution_count": 50
        }
      ]
    },
    {
      "cell_type": "code",
      "metadata": {
        "colab": {
          "base_uri": "https://localhost:8080/"
        },
        "id": "xYAtMpDugBPT",
        "outputId": "b79bc08e-ee95-4841-e710-bde3aea9d569"
      },
      "source": [
        "deque.excluir_final()\n",
        "deque.get_inicio(),deque.get_final()"
      ],
      "execution_count": 51,
      "outputs": [
        {
          "output_type": "execute_result",
          "data": {
            "text/plain": [
              "(2, 10)"
            ]
          },
          "metadata": {
            "tags": []
          },
          "execution_count": 51
        }
      ]
    }
  ]
}