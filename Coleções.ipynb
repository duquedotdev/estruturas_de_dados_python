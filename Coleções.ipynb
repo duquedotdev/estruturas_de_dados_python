{
  "nbformat": 4,
  "nbformat_minor": 0,
  "metadata": {
    "colab": {
      "name": "Coleções.ipynb",
      "provenance": [],
      "collapsed_sections": [
        "_fLnl8sWFPET",
        "QFQSrfkrFNhK",
        "AgSEV4q1GIGx"
      ]
    },
    "kernelspec": {
      "name": "python3",
      "display_name": "Python 3"
    }
  },
  "cells": [
    {
      "cell_type": "markdown",
      "metadata": {
        "id": "_fLnl8sWFPET"
      },
      "source": [
        "### Tuplas\n"
      ]
    },
    {
      "cell_type": "code",
      "metadata": {
        "id": "EsjAFhbrE3lx"
      },
      "source": [
        "tupla = ('Cayenne', '911 GT3 RS', 'Macan')"
      ],
      "execution_count": 1,
      "outputs": []
    },
    {
      "cell_type": "code",
      "metadata": {
        "id": "dC1EUSVcFBcx",
        "outputId": "0529e4cc-e46b-472d-efc3-79818fdf0d48",
        "colab": {
          "base_uri": "https://localhost:8080/",
          "height": 35
        }
      },
      "source": [
        "tupla[1]"
      ],
      "execution_count": 2,
      "outputs": [
        {
          "output_type": "execute_result",
          "data": {
            "application/vnd.google.colaboratory.intrinsic+json": {
              "type": "string"
            },
            "text/plain": [
              "'911 GT3 RS'"
            ]
          },
          "metadata": {
            "tags": []
          },
          "execution_count": 2
        }
      ]
    },
    {
      "cell_type": "code",
      "metadata": {
        "id": "mEpBLehZFDjX",
        "outputId": "c0a8cd3e-b4f0-42f3-a666-35f2ade548a6",
        "colab": {
          "base_uri": "https://localhost:8080/"
        }
      },
      "source": [
        "tupla.index('Cayenne')"
      ],
      "execution_count": 3,
      "outputs": [
        {
          "output_type": "execute_result",
          "data": {
            "text/plain": [
              "0"
            ]
          },
          "metadata": {
            "tags": []
          },
          "execution_count": 3
        }
      ]
    },
    {
      "cell_type": "code",
      "metadata": {
        "id": "JgZR51XCFGet",
        "outputId": "c9a39221-e491-410a-b0b2-b5bd1f9a70f9",
        "colab": {
          "base_uri": "https://localhost:8080/"
        }
      },
      "source": [
        "for elemento in tupla:\n",
        "  print(elemento)"
      ],
      "execution_count": 4,
      "outputs": [
        {
          "output_type": "stream",
          "text": [
            "Cayenne\n",
            "911 GT3 RS\n",
            "Macan\n"
          ],
          "name": "stdout"
        }
      ]
    },
    {
      "cell_type": "markdown",
      "metadata": {
        "id": "QFQSrfkrFNhK"
      },
      "source": [
        "### Lista\n"
      ]
    },
    {
      "cell_type": "code",
      "metadata": {
        "id": "oZQNALGkFNFo"
      },
      "source": [
        "porsche = ['Cayenne', '911 GT3 RS', 'Macan']\n",
        "volkswagen = ['Golf', 'Jetta']"
      ],
      "execution_count": 7,
      "outputs": []
    },
    {
      "cell_type": "code",
      "metadata": {
        "id": "DYlesHruFL82",
        "outputId": "207ee05a-ed19-41fb-a71a-f4f6e5d32cb2",
        "colab": {
          "base_uri": "https://localhost:8080/"
        }
      },
      "source": [
        "porsche + volkswagen"
      ],
      "execution_count": 8,
      "outputs": [
        {
          "output_type": "execute_result",
          "data": {
            "text/plain": [
              "['Cayenne', '911 GT3 RS', 'Macan', 'Golf', 'Jetta']"
            ]
          },
          "metadata": {
            "tags": []
          },
          "execution_count": 8
        }
      ]
    },
    {
      "cell_type": "markdown",
      "metadata": {
        "id": "AgSEV4q1GIGx"
      },
      "source": [
        "### Dicionários"
      ]
    },
    {
      "cell_type": "code",
      "metadata": {
        "id": "zUP2_QvMFiDz"
      },
      "source": [
        "coleta = {'Aedes aegyot': 32, 'Aedes albopictus': 22, 'Anopeles darlingi': 1 }"
      ],
      "execution_count": 9,
      "outputs": []
    },
    {
      "cell_type": "code",
      "metadata": {
        "id": "76Vr7bBvGb3I",
        "outputId": "85ec6a16-c562-4f0b-ca52-72b5996b6909",
        "colab": {
          "base_uri": "https://localhost:8080/"
        }
      },
      "source": [
        "coleta['Aedes aegyot']"
      ],
      "execution_count": 11,
      "outputs": [
        {
          "output_type": "execute_result",
          "data": {
            "text/plain": [
              "32"
            ]
          },
          "metadata": {
            "tags": []
          },
          "execution_count": 11
        }
      ]
    },
    {
      "cell_type": "code",
      "metadata": {
        "id": "FBZ8k-XYGdYn"
      },
      "source": [
        "coleta['Rhodnius montenegrensis'] = 11"
      ],
      "execution_count": 12,
      "outputs": []
    },
    {
      "cell_type": "code",
      "metadata": {
        "id": "vU6WA7iHGqQn",
        "outputId": "9eb110ec-b42e-47ed-9afa-2e94ca0c848a",
        "colab": {
          "base_uri": "https://localhost:8080/"
        }
      },
      "source": [
        "coleta"
      ],
      "execution_count": 13,
      "outputs": [
        {
          "output_type": "execute_result",
          "data": {
            "text/plain": [
              "{'Aedes aegyot': 32,\n",
              " 'Aedes albopictus': 22,\n",
              " 'Anopeles darlingi': 1,\n",
              " 'Rhodnius montenegrensis': 11}"
            ]
          },
          "metadata": {
            "tags": []
          },
          "execution_count": 13
        }
      ]
    },
    {
      "cell_type": "code",
      "metadata": {
        "id": "N02T8JOjGrfr"
      },
      "source": [
        "del(coleta)['Anopeles darlingi']"
      ],
      "execution_count": 15,
      "outputs": []
    },
    {
      "cell_type": "code",
      "metadata": {
        "id": "5NwJ7VlCGvQQ",
        "outputId": "2a974efb-cf7b-47e7-db11-0b1fb2d7c85d",
        "colab": {
          "base_uri": "https://localhost:8080/"
        }
      },
      "source": [
        "coleta"
      ],
      "execution_count": 16,
      "outputs": [
        {
          "output_type": "execute_result",
          "data": {
            "text/plain": [
              "{'Aedes aegyot': 32, 'Aedes albopictus': 22, 'Rhodnius montenegrensis': 11}"
            ]
          },
          "metadata": {
            "tags": []
          },
          "execution_count": 16
        }
      ]
    },
    {
      "cell_type": "code",
      "metadata": {
        "id": "SK1EbEM8GyA7",
        "outputId": "48a47f22-6101-437b-d952-7f05334b8c42",
        "colab": {
          "base_uri": "https://localhost:8080/"
        }
      },
      "source": [
        "coleta.items()"
      ],
      "execution_count": 17,
      "outputs": [
        {
          "output_type": "execute_result",
          "data": {
            "text/plain": [
              "dict_items([('Aedes aegyot', 32), ('Aedes albopictus', 22), ('Rhodnius montenegrensis', 11)])"
            ]
          },
          "metadata": {
            "tags": []
          },
          "execution_count": 17
        }
      ]
    },
    {
      "cell_type": "code",
      "metadata": {
        "id": "OQ80bsGgG2uM",
        "outputId": "2535377c-23f0-49f4-ec48-a3b08ee67087",
        "colab": {
          "base_uri": "https://localhost:8080/"
        }
      },
      "source": [
        "for especime, num_coletados in coleta.items():\n",
        "  print(f'Espécie: {especime}, coletados: {num_coletados}')"
      ],
      "execution_count": 19,
      "outputs": [
        {
          "output_type": "stream",
          "text": [
            "Espécie: Aedes aegyot, coletados: 32\n",
            "Espécie: Aedes albopictus, coletados: 22\n",
            "Espécie: Rhodnius montenegrensis, coletados: 11\n"
          ],
          "name": "stdout"
        }
      ]
    },
    {
      "cell_type": "markdown",
      "metadata": {
        "id": "pjFMGdf5IyGr"
      },
      "source": [
        "### Conjuntos (set)"
      ]
    },
    {
      "cell_type": "code",
      "metadata": {
        "id": "whI5qVr0ItPK"
      },
      "source": [
        "biomoleculas = ('proteínas', 'ácidos nucleicos', 'carboidratos', 'lipídios', \n",
        "                'ácidos nucleicos', 'carboidratos', 'lipídios')"
      ],
      "execution_count": 20,
      "outputs": []
    },
    {
      "cell_type": "code",
      "metadata": {
        "id": "wdd7hkVEJCMf",
        "outputId": "c6cf5ca7-c8fb-450e-9a50-8d4557d00341",
        "colab": {
          "base_uri": "https://localhost:8080/"
        }
      },
      "source": [
        "biomoleculas"
      ],
      "execution_count": 21,
      "outputs": [
        {
          "output_type": "execute_result",
          "data": {
            "text/plain": [
              "('proteínas',\n",
              " 'ácidos nucleicos',\n",
              " 'carboidratos',\n",
              " 'lipídios',\n",
              " 'ácidos nucleicos',\n",
              " 'carboidratos',\n",
              " 'lipídios')"
            ]
          },
          "metadata": {
            "tags": []
          },
          "execution_count": 21
        }
      ]
    },
    {
      "cell_type": "code",
      "metadata": {
        "id": "ZC2S78VoJECA",
        "outputId": "97d0eedc-0725-409a-be4f-fb34f952ff0e",
        "colab": {
          "base_uri": "https://localhost:8080/"
        }
      },
      "source": [
        "set(biomoleculas)"
      ],
      "execution_count": 22,
      "outputs": [
        {
          "output_type": "execute_result",
          "data": {
            "text/plain": [
              "{'carboidratos', 'lipídios', 'proteínas', 'ácidos nucleicos'}"
            ]
          },
          "metadata": {
            "tags": []
          },
          "execution_count": 22
        }
      ]
    },
    {
      "cell_type": "code",
      "metadata": {
        "id": "F7yaq5DwJF4l"
      },
      "source": [
        "c1 = {1, 2, 3, 4,5}\n",
        "c2 = {3,4,5,6,7}\n",
        "c3 = c1.intersection(c2)"
      ],
      "execution_count": 24,
      "outputs": []
    },
    {
      "cell_type": "code",
      "metadata": {
        "id": "t_JM9NXFJPba",
        "outputId": "facf5939-fe18-4256-9f7b-d5f91ab1aca3",
        "colab": {
          "base_uri": "https://localhost:8080/"
        }
      },
      "source": [
        "c3"
      ],
      "execution_count": 25,
      "outputs": [
        {
          "output_type": "execute_result",
          "data": {
            "text/plain": [
              "{3, 4, 5}"
            ]
          },
          "metadata": {
            "tags": []
          },
          "execution_count": 25
        }
      ]
    },
    {
      "cell_type": "code",
      "metadata": {
        "id": "Fc-M9gSUJXHy",
        "outputId": "952002ec-4159-46d2-ef1c-f9016adc922e",
        "colab": {
          "base_uri": "https://localhost:8080/"
        }
      },
      "source": [
        "c1.difference(c2)"
      ],
      "execution_count": 26,
      "outputs": [
        {
          "output_type": "execute_result",
          "data": {
            "text/plain": [
              "{1, 2}"
            ]
          },
          "metadata": {
            "tags": []
          },
          "execution_count": 26
        }
      ]
    },
    {
      "cell_type": "code",
      "metadata": {
        "id": "uwukCQnlJjjq"
      },
      "source": [
        ""
      ],
      "execution_count": null,
      "outputs": []
    }
  ]
}