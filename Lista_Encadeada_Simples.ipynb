{
  "nbformat": 4,
  "nbformat_minor": 0,
  "metadata": {
    "colab": {
      "name": "Lista Encadeada Simples.ipynb",
      "provenance": [],
      "collapsed_sections": [],
      "authorship_tag": "ABX9TyP4UysemtKgOkzcJqk8cSXm",
      "include_colab_link": true
    },
    "kernelspec": {
      "name": "python3",
      "display_name": "Python 3"
    }
  },
  "cells": [
    {
      "cell_type": "markdown",
      "metadata": {
        "id": "view-in-github",
        "colab_type": "text"
      },
      "source": [
        "<a href=\"https://colab.research.google.com/github/duquedotdev/estruturas_de_dados_python/blob/master/Lista_Encadeada_Simples.ipynb\" target=\"_parent\"><img src=\"https://colab.research.google.com/assets/colab-badge.svg\" alt=\"Open In Colab\"/></a>"
      ]
    },
    {
      "cell_type": "markdown",
      "metadata": {
        "id": "lRoUGYSDPKbx"
      },
      "source": [
        "# Estrutura de dados"
      ]
    },
    {
      "cell_type": "markdown",
      "metadata": {
        "id": "3W2UpsZ8PMCE"
      },
      "source": [
        "## Listas encadeadas simples"
      ]
    },
    {
      "cell_type": "markdown",
      "metadata": {
        "id": "iWuo079WPMQX"
      },
      "source": [
        "### Desvantagens Vetores\n",
        "* Em um vetor não ordenado, a busca é lenta;\n",
        "* Em um vetor ordenado, a inserção é lenta;\n",
        "* Em ambos, a remoção é lenta;\n",
        "* O tamanho do vetor \"não pode\" ser alterado depois de ter sido criado;\n",
        "* Mesmo vazios ocupam espaços na memória\n",
        "\n",
        "### Listas Encadeadas\n",
        "* Cada item de dados é incorporado em um nó;\n",
        "* Cada nó possui uma referência para o próximo nó da lista;\n",
        "* Um campo da própria lista contém uma referência para o primeiro nó;\n",
        "* Em um vetor, cada item ocupa uma certa posição. Cada posição pode ser acessada usando um número de índice;\n",
        "* Em uma lista, a única maneira de encontrar um elemento é seguir a sequência de elementos;\n",
        "* Um item de dados não pode ser acessado diretamente, ou seja, o relacionamento entre eles deve ser utilizado;\n",
        "* Pesquisa Linear: em uma lista encadeada, a busca efetuada é a pesquisa linear;\n",
        "* Cada elemento da lista é armazenado em um objeto;\n",
        "* Cada elemento da lista referencia o próximo e só é alocado dinamicamente quando é necessário;\n",
        "* Para referenciar o primeiro elemento é utilizado um elemento chamado cabeça da lista;\n"
      ]
    },
    {
      "cell_type": "code",
      "metadata": {
        "id": "iKuZZo4kPF5s"
      },
      "source": [
        "import numpy as np"
      ],
      "execution_count": 88,
      "outputs": []
    },
    {
      "cell_type": "code",
      "metadata": {
        "id": "shZT7aRMazuE"
      },
      "source": [
        "class Node:\n",
        "  def __init__(self, value):\n",
        "    self.value = value\n",
        "    self.next = None\n",
        "\n",
        "  def showNode(self):\n",
        "    print(self.value)\n",
        "\n",
        "class LinkedList:\n",
        "  def __init__(self):\n",
        "    self.first = None\n",
        "  \n",
        "  def beginInsert(self, value):\n",
        "    newItem = Node(value)\n",
        "    newItem.next = self.first\n",
        "    self.first = newItem\n",
        "\n",
        "  def show(self):\n",
        "    actual = self.first\n",
        "    while actual != None:\n",
        "      actual.showNode()\n",
        "      actual = actual.next\n",
        "\n",
        "  def search(self, value):\n",
        "    if self.first == None:\n",
        "      print('A lista está vazia')\n",
        "      return None\n",
        "\n",
        "    actual = self.first\n",
        "    while actual.value != value:\n",
        "      if actual.next == None:\n",
        "        return None\n",
        "      else:\n",
        "        actual = actual.next\n",
        "    return actual\n",
        "\n",
        "  \n",
        "  def beginRemove(self):\n",
        "    if self.first == None:\n",
        "      print('A lista está vazia')\n",
        "      return None\n",
        "\n",
        "    temp = self.first   \n",
        "    self.first = self.first.next\n",
        "    return temp\n",
        "    \n",
        "  def remove(self,value):\n",
        "    actual = self.first\n",
        "    previous = self.first\n",
        "    while actual.value != value:\n",
        "      if actual.next == None:\n",
        "        return None\n",
        "      else:\n",
        "        previous = actual\n",
        "        actual = actual.next\n",
        "\n",
        "    if actual == self.first:\n",
        "      self.first = self.first.next\n",
        "    else:\n",
        "      previous.next = actual.next\n",
        "    \n",
        "    return actual"
      ],
      "execution_count": 89,
      "outputs": []
    },
    {
      "cell_type": "markdown",
      "metadata": {
        "id": "VhqlM23nwaDC"
      },
      "source": [
        "### Insere no início"
      ]
    },
    {
      "cell_type": "code",
      "metadata": {
        "colab": {
          "base_uri": "https://localhost:8080/"
        },
        "id": "jWZUYjqfuJ2w",
        "outputId": "4c5503bb-682d-4f5b-8772-a9995294164f"
      },
      "source": [
        "mylist = LinkedList()\n",
        "mylist.beginInsert(1)\n",
        "mylist.beginInsert(2)\n",
        "mylist.beginInsert(3)\n",
        "mylist.beginInsert(4)\n",
        "mylist.beginInsert(5)\n",
        "mylist.show()"
      ],
      "execution_count": 90,
      "outputs": [
        {
          "output_type": "stream",
          "text": [
            "5\n",
            "4\n",
            "3\n",
            "2\n",
            "1\n"
          ],
          "name": "stdout"
        }
      ]
    },
    {
      "cell_type": "markdown",
      "metadata": {
        "id": "zJptZMws32uc"
      },
      "source": [
        "Indica o endereço de memória\n"
      ]
    },
    {
      "cell_type": "code",
      "metadata": {
        "colab": {
          "base_uri": "https://localhost:8080/"
        },
        "id": "XPpUjcVywlAA",
        "outputId": "eb288a56-4b69-46ac-96ce-f35f0c7364aa"
      },
      "source": [
        "mylist.first"
      ],
      "execution_count": 91,
      "outputs": [
        {
          "output_type": "execute_result",
          "data": {
            "text/plain": [
              "<__main__.Node at 0x7f75b599e780>"
            ]
          },
          "metadata": {
            "tags": []
          },
          "execution_count": 91
        }
      ]
    },
    {
      "cell_type": "code",
      "metadata": {
        "colab": {
          "base_uri": "https://localhost:8080/"
        },
        "id": "Uny-R89Z30SN",
        "outputId": "2c5f0179-dbc4-4e99-fecb-e309d1df7be7"
      },
      "source": [
        "mylist.beginInsert(6)\n",
        "mylist.show()"
      ],
      "execution_count": 92,
      "outputs": [
        {
          "output_type": "stream",
          "text": [
            "6\n",
            "5\n",
            "4\n",
            "3\n",
            "2\n",
            "1\n"
          ],
          "name": "stdout"
        }
      ]
    },
    {
      "cell_type": "markdown",
      "metadata": {
        "id": "loRUZ1bA4F29"
      },
      "source": [
        "Indica um novo endereço de memória"
      ]
    },
    {
      "cell_type": "code",
      "metadata": {
        "colab": {
          "base_uri": "https://localhost:8080/"
        },
        "id": "jsoR29th3-2n",
        "outputId": "64f6aa69-d50c-4f41-b14d-14154625d4a7"
      },
      "source": [
        "mylist.first"
      ],
      "execution_count": 93,
      "outputs": [
        {
          "output_type": "execute_result",
          "data": {
            "text/plain": [
              "<__main__.Node at 0x7f75b599e048>"
            ]
          },
          "metadata": {
            "tags": []
          },
          "execution_count": 93
        }
      ]
    },
    {
      "cell_type": "markdown",
      "metadata": {
        "id": "jkKNKXmo7YQT"
      },
      "source": [
        "### Excluir do início"
      ]
    },
    {
      "cell_type": "code",
      "metadata": {
        "colab": {
          "base_uri": "https://localhost:8080/"
        },
        "id": "8hrgTBE87YAj",
        "outputId": "65433e14-a367-440b-c093-669dd8a482fa"
      },
      "source": [
        "mylist.beginRemove()\n",
        "mylist.show()"
      ],
      "execution_count": 94,
      "outputs": [
        {
          "output_type": "stream",
          "text": [
            "5\n",
            "4\n",
            "3\n",
            "2\n",
            "1\n"
          ],
          "name": "stdout"
        }
      ]
    },
    {
      "cell_type": "markdown",
      "metadata": {
        "id": "3g55RmmXAqcD"
      },
      "source": [
        "### Pesquisa\n"
      ]
    },
    {
      "cell_type": "code",
      "metadata": {
        "id": "uYQspR1wAskp"
      },
      "source": [
        "pesquisa = mylist.search(3)"
      ],
      "execution_count": 95,
      "outputs": []
    },
    {
      "cell_type": "code",
      "metadata": {
        "colab": {
          "base_uri": "https://localhost:8080/"
        },
        "id": "Nbfl1BGZA4M3",
        "outputId": "c72cc586-b8de-42be-f953-95aa0aa50cae"
      },
      "source": [
        "  if pesquisa != None:\n",
        "    print('Encontrado: ', pesquisa.value)\n",
        "  else:\n",
        "    print('Não encontrado')"
      ],
      "execution_count": 96,
      "outputs": [
        {
          "output_type": "stream",
          "text": [
            "Encontrado:  3\n"
          ],
          "name": "stdout"
        }
      ]
    },
    {
      "cell_type": "markdown",
      "metadata": {
        "id": "Cb2fqE-FItkg"
      },
      "source": [
        "###  Excluir posição"
      ]
    },
    {
      "cell_type": "code",
      "metadata": {
        "colab": {
          "base_uri": "https://localhost:8080/"
        },
        "id": "czL1lo5vBg5r",
        "outputId": "efaccff7-a974-494f-8b6d-05ab68999735"
      },
      "source": [
        "mylist.remove(3)\n",
        "mylist.show()"
      ],
      "execution_count": 97,
      "outputs": [
        {
          "output_type": "stream",
          "text": [
            "5\n",
            "4\n",
            "2\n",
            "1\n"
          ],
          "name": "stdout"
        }
      ]
    },
    {
      "cell_type": "code",
      "metadata": {
        "colab": {
          "base_uri": "https://localhost:8080/"
        },
        "id": "Err0H3y0JAPV",
        "outputId": "2328fb42-e359-467c-ee31-80c636f1e32f"
      },
      "source": [
        "mylist.remove(1)\n",
        "mylist.show()"
      ],
      "execution_count": 98,
      "outputs": [
        {
          "output_type": "stream",
          "text": [
            "5\n",
            "4\n",
            "2\n"
          ],
          "name": "stdout"
        }
      ]
    },
    {
      "cell_type": "code",
      "metadata": {
        "colab": {
          "base_uri": "https://localhost:8080/"
        },
        "id": "EVqKzQy3JL0k",
        "outputId": "133afbea-4bc3-42b5-8bd1-18e3f1928af2"
      },
      "source": [
        "mylist.remove(5)\n",
        "mylist.show()"
      ],
      "execution_count": 99,
      "outputs": [
        {
          "output_type": "stream",
          "text": [
            "4\n",
            "2\n"
          ],
          "name": "stdout"
        }
      ]
    }
  ]
}