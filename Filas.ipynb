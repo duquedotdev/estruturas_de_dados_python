{
  "nbformat": 4,
  "nbformat_minor": 0,
  "metadata": {
    "colab": {
      "name": "Filas.ipynb",
      "provenance": [],
      "collapsed_sections": [],
      "authorship_tag": "ABX9TyPEt0vrd3o41BtgmNbdIv7S",
      "include_colab_link": true
    },
    "kernelspec": {
      "name": "python3",
      "display_name": "Python 3"
    }
  },
  "cells": [
    {
      "cell_type": "markdown",
      "metadata": {
        "id": "view-in-github",
        "colab_type": "text"
      },
      "source": [
        "<a href=\"https://colab.research.google.com/github/duquedotdev/estruturas_de_dados_python/blob/master/Filas.ipynb\" target=\"_parent\"><img src=\"https://colab.research.google.com/assets/colab-badge.svg\" alt=\"Open In Colab\"/></a>"
      ]
    },
    {
      "cell_type": "markdown",
      "metadata": {
        "id": "YduHSooO9gWA"
      },
      "source": [
        "# Estruturas de Dados\n"
      ]
    },
    {
      "cell_type": "markdown",
      "metadata": {
        "id": "DFhwwYaw9gPz"
      },
      "source": [
        "## Filas\n"
      ]
    },
    {
      "cell_type": "markdown",
      "metadata": {
        "id": "8_NVbCZZ9gI4"
      },
      "source": [
        "*   A primeira instrução recebida será a primeira instrução processada;\n",
        "*   É uma estrutura semelhante a uma pilha, exceto que em uma fila o primeiro elemento inserido é o primeiro a ser removido (First-In-First-Out);\n",
        "*   A aplicabilidade pode ser dada desde uma linha de montagem, aeronaves para decolar, ou mesmo pacotes de dados esperando para serem transmitidos pela rede;\n",
        "*   "
      ]
    },
    {
      "cell_type": "code",
      "metadata": {
        "id": "huO3s1_q9dK2"
      },
      "source": [
        "import numpy as np"
      ],
      "execution_count": 38,
      "outputs": []
    },
    {
      "cell_type": "code",
      "metadata": {
        "id": "cueDo7URO2ng"
      },
      "source": [
        "class FilaCircular:\n",
        "  def __init__(self, capacidade):\n",
        "    self.capacidade = capacidade\n",
        "    self.inicio = 0\n",
        "    self.final = -1\n",
        "    self.numero_elementos = 0\n",
        "    self.valores = np.empty(self.capacidade, dtype=int)\n",
        "\n",
        "  def __fila_vazia(self):\n",
        "    return self.numero_elementos == 0\n",
        "  \n",
        "  def __fila_cheia(self):\n",
        "    return self.numero_elementos == self.capacidade\n",
        "\n",
        "  def enfileirar(self, valor):\n",
        "    if self.__fila_cheia():\n",
        "      print('A fila está cheia')\n",
        "      return\n",
        "    \n",
        "    if self.final == self.capacidade -1:\n",
        "      self.final = -1\n",
        "    self.final += 1\n",
        "    self.valores[self.final] = valor\n",
        "    self.numero_elementos += 1\n",
        "\n",
        "  def desenfileirar(self):\n",
        "    if self.__fila_vazia():\n",
        "      print('A fila já está vazia')\n",
        "      return\n",
        "\n",
        "    temp = self.valores[self.inicio]\n",
        "    self.inicio += 1 \n",
        "    if self.inicio == self.capacidade:\n",
        "      self.inicio =0\n",
        "    self.numero_elementos -= 1\n",
        "    return temp\n",
        "\n",
        "  def primeiro_elemento(self):\n",
        "      if self.__fila_vazia():\n",
        "        return -1\n",
        "      return self.valores[self.inicio]\n",
        "\n"
      ],
      "execution_count": 39,
      "outputs": []
    },
    {
      "cell_type": "code",
      "metadata": {
        "id": "xzq6SbJ2Qm_K"
      },
      "source": [
        "fila = FilaCircular(5)"
      ],
      "execution_count": 40,
      "outputs": []
    },
    {
      "cell_type": "code",
      "metadata": {
        "colab": {
          "base_uri": "https://localhost:8080/"
        },
        "id": "xRyglaICQpFq",
        "outputId": "97299aca-b025-4d68-b8e7-fb92197db434"
      },
      "source": [
        "fila.primeiro_elemento()"
      ],
      "execution_count": 41,
      "outputs": [
        {
          "output_type": "execute_result",
          "data": {
            "text/plain": [
              "-1"
            ]
          },
          "metadata": {
            "tags": []
          },
          "execution_count": 41
        }
      ]
    },
    {
      "cell_type": "code",
      "metadata": {
        "colab": {
          "base_uri": "https://localhost:8080/"
        },
        "id": "e2aoerwZQwHQ",
        "outputId": "376bb69d-695a-43ce-9b4f-18932c5d9e3d"
      },
      "source": [
        "fila.enfileirar(1)\n",
        "fila.primeiro_elemento()"
      ],
      "execution_count": 42,
      "outputs": [
        {
          "output_type": "execute_result",
          "data": {
            "text/plain": [
              "1"
            ]
          },
          "metadata": {
            "tags": []
          },
          "execution_count": 42
        }
      ]
    },
    {
      "cell_type": "code",
      "metadata": {
        "colab": {
          "base_uri": "https://localhost:8080/"
        },
        "id": "xOMS0y0lRGVO",
        "outputId": "51493e8c-841a-45e3-e4c6-358763e42466"
      },
      "source": [
        "fila.enfileirar(2)\n",
        "fila.primeiro_elemento()"
      ],
      "execution_count": 43,
      "outputs": [
        {
          "output_type": "execute_result",
          "data": {
            "text/plain": [
              "1"
            ]
          },
          "metadata": {
            "tags": []
          },
          "execution_count": 43
        }
      ]
    },
    {
      "cell_type": "code",
      "metadata": {
        "colab": {
          "base_uri": "https://localhost:8080/"
        },
        "id": "o8QmgkA5RLzb",
        "outputId": "2ba2a575-bb86-4087-aab6-45e984f18a92"
      },
      "source": [
        "fila.enfileirar(3)\n",
        "fila.enfileirar(4)\n",
        "fila.enfileirar(5)\n",
        "fila.primeiro_elemento()"
      ],
      "execution_count": 44,
      "outputs": [
        {
          "output_type": "execute_result",
          "data": {
            "text/plain": [
              "1"
            ]
          },
          "metadata": {
            "tags": []
          },
          "execution_count": 44
        }
      ]
    },
    {
      "cell_type": "code",
      "metadata": {
        "colab": {
          "base_uri": "https://localhost:8080/"
        },
        "id": "gLdIqSXGRV4h",
        "outputId": "5469a50d-0b45-4c17-8ff1-5eb86cf95848"
      },
      "source": [
        "fila.enfileirar(6)"
      ],
      "execution_count": 45,
      "outputs": [
        {
          "output_type": "stream",
          "text": [
            "A fila está cheia\n"
          ],
          "name": "stdout"
        }
      ]
    },
    {
      "cell_type": "code",
      "metadata": {
        "colab": {
          "base_uri": "https://localhost:8080/"
        },
        "id": "fkX6ofokRYWz",
        "outputId": "d5c1fe85-ac2c-48b1-9dd9-f6666a544069"
      },
      "source": [
        "# (5 4) 3 2 1\n",
        "fila.desenfileirar()\n",
        "fila.desenfileirar()\n",
        "fila.primeiro_elemento()"
      ],
      "execution_count": 46,
      "outputs": [
        {
          "output_type": "execute_result",
          "data": {
            "text/plain": [
              "3"
            ]
          },
          "metadata": {
            "tags": []
          },
          "execution_count": 46
        }
      ]
    },
    {
      "cell_type": "code",
      "metadata": {
        "colab": {
          "base_uri": "https://localhost:8080/"
        },
        "id": "_DQOck2dRjXW",
        "outputId": "5749bfc8-d535-49d9-fb2f-17fddd724999"
      },
      "source": [
        "# (7 6) 5 4 3\n",
        "fila.enfileirar(6)\n",
        "fila.enfileirar(7)\n",
        "fila.primeiro_elemento()"
      ],
      "execution_count": 47,
      "outputs": [
        {
          "output_type": "execute_result",
          "data": {
            "text/plain": [
              "3"
            ]
          },
          "metadata": {
            "tags": []
          },
          "execution_count": 47
        }
      ]
    },
    {
      "cell_type": "code",
      "metadata": {
        "colab": {
          "base_uri": "https://localhost:8080/"
        },
        "id": "6IctQpUhRbZr",
        "outputId": "ed51df55-5194-490b-b266-ddf0e32654a6"
      },
      "source": [
        "# O importante é deixar os valores privados, permitindo o acesso apenas pelo método\n",
        "fila.valores"
      ],
      "execution_count": 49,
      "outputs": [
        {
          "output_type": "execute_result",
          "data": {
            "text/plain": [
              "array([6, 7, 3, 4, 5])"
            ]
          },
          "metadata": {
            "tags": []
          },
          "execution_count": 49
        }
      ]
    },
    {
      "cell_type": "code",
      "metadata": {
        "colab": {
          "base_uri": "https://localhost:8080/"
        },
        "id": "HOeF-cVpSBof",
        "outputId": "1454a922-7cc3-4159-cb9c-4c9caf3f70f9"
      },
      "source": [
        "fila.inicio, fila.final"
      ],
      "execution_count": 50,
      "outputs": [
        {
          "output_type": "execute_result",
          "data": {
            "text/plain": [
              "(2, 1)"
            ]
          },
          "metadata": {
            "tags": []
          },
          "execution_count": 50
        }
      ]
    }
  ]
}